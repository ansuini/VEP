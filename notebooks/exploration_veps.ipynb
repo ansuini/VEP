{
 "cells": [
  {
   "cell_type": "markdown",
   "metadata": {},
   "source": [
    "## Encoding of LFP with Keras and decoding of orientation of static gratings"
   ]
  },
  {
   "cell_type": "code",
   "execution_count": 2,
   "metadata": {
    "collapsed": false
   },
   "outputs": [
    {
     "name": "stderr",
     "output_type": "stream",
     "text": [
      "Using Theano backend.\n"
     ]
    }
   ],
   "source": [
    "import numpy as np\n",
    "from matplotlib import pyplot as plt\n",
    "from scipy.io import loadmat\n",
    "from utils import bitcodes as bc\n",
    "import keras"
   ]
  },
  {
   "cell_type": "code",
   "execution_count": 9,
   "metadata": {
    "collapsed": false
   },
   "outputs": [
    {
     "name": "stdout",
     "output_type": "stream",
     "text": [
      "(32, 342, 700)\n"
     ]
    }
   ],
   "source": [
    "# load data, size 43 M\n",
    "\n",
    "datafile = '/home/ans/Dropbox/Anansi/data/STLFP/2013_07_02_S_2/S_small.mat'\n",
    "t = loadmat(datafile)\n",
    "x = t['X']\n",
    "nsamples = x.shape[2]\n",
    "print x.shape"
   ]
  },
  {
   "cell_type": "code",
   "execution_count": 10,
   "metadata": {
    "collapsed": false
   },
   "outputs": [],
   "source": [
    "# concatenate channels \n",
    "x = x.reshape(342, 32*nsamples)"
   ]
  },
  {
   "cell_type": "code",
   "execution_count": 11,
   "metadata": {
    "collapsed": false
   },
   "outputs": [],
   "source": [
    "# plot some channels on random stimuli \n",
    "\n",
    "nchannels = 5\n",
    "bitcodes = np.random.permutation(342)[0:2]\n",
    "plt.figure()\n",
    "plt.plot(x[bitcodes,0:nchannels*nsamples - 1].T)\n",
    "for k in range(nchannels):\n",
    "    plt.axvline(nsamples*k)\n",
    "plt.show()"
   ]
  },
  {
   "cell_type": "code",
   "execution_count": 15,
   "metadata": {
    "collapsed": false
   },
   "outputs": [
    {
     "name": "stdout",
     "output_type": "stream",
     "text": [
      "(16, 22400)\n",
      "(64, 22400)\n",
      "(32, 22400)\n"
     ]
    }
   ],
   "source": [
    "# select data from static and moving gratings (-1 is in python as different from matlab)\n",
    "\n",
    "sg = bc.get_static_gratings() - 1\n",
    "mg = bc.get_moving_gratings() - 1\n",
    "md = bc.get_moving_dots()     - 1\n",
    "\n",
    "SG = np.squeeze(x[sg.flatten(),:])\n",
    "MG = np.squeeze(x[mg.flatten(),:])\n",
    "MD = np.squeeze(x[md.flatten(),:])\n",
    "\n",
    "print SG.shape\n",
    "print MG.shape\n",
    "print MD.shape"
   ]
  },
  {
   "cell_type": "code",
   "execution_count": null,
   "metadata": {
    "collapsed": false
   },
   "outputs": [],
   "source": []
  },
  {
   "cell_type": "code",
   "execution_count": null,
   "metadata": {
    "collapsed": false
   },
   "outputs": [],
   "source": [
    "\n",
    "bcs\n"
   ]
  },
  {
   "cell_type": "code",
   "execution_count": null,
   "metadata": {
    "collapsed": true
   },
   "outputs": [],
   "source": []
  }
 ],
 "metadata": {
  "kernelspec": {
   "display_name": "Python 2",
   "language": "python",
   "name": "python2"
  },
  "language_info": {
   "codemirror_mode": {
    "name": "ipython",
    "version": 2
   },
   "file_extension": ".py",
   "mimetype": "text/x-python",
   "name": "python",
   "nbconvert_exporter": "python",
   "pygments_lexer": "ipython2",
   "version": "2.7.11"
  }
 },
 "nbformat": 4,
 "nbformat_minor": 0
}
